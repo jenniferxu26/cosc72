{
 "cells": [
  {
   "metadata": {},
   "cell_type": "markdown",
   "source": [
    "# 1_preprocess.ipynb\n",
    "\n",
    "Jennifer Xu (Jennifer.Xu.26@dartmouth.edu)\n",
    "\n",
    "This code loads the Tang and Song poetry JSON files, combines them, cleans the data, formats it with <gloss> entries, and then shuffles and splits it into training and testing sets. It outputs the cleaned Tang and Song poetry as separate JSON files for training and testing."
   ],
   "id": "77bb611ad5e140d2"
  },
  {
   "metadata": {
    "ExecuteTime": {
     "end_time": "2025-06-10T02:26:28.428957Z",
     "start_time": "2025-06-10T02:26:28.426731Z"
    }
   },
   "cell_type": "code",
   "source": [
    "from pathlib import Path\n",
    "import json, random, re, unicodedata, pandas as pd\n",
    "from itertools import zip_longest\n",
    "from tqdm.auto import tqdm"
   ],
   "id": "a554c858a71d3dfe",
   "outputs": [],
   "execution_count": 10
  },
  {
   "metadata": {},
   "cell_type": "markdown",
   "source": "# Setup paths & constants",
   "id": "b2dbb4d7f7b7638"
  },
  {
   "cell_type": "code",
   "id": "initial_id",
   "metadata": {
    "collapsed": true,
    "ExecuteTime": {
     "end_time": "2025-06-10T02:26:28.455037Z",
     "start_time": "2025-06-10T02:26:28.452037Z"
    }
   },
   "source": [
    "ROOT      = Path(\".\")\n",
    "RAW_DIR   = ROOT / \"data\" / \"raw\"\n",
    "PROC_DIR  = ROOT / \"data\" / \"proc\"\n",
    "PROC_DIR.mkdir(parents=True, exist_ok=True)\n",
    "\n",
    "RAW_TANG  = RAW_DIR / \"cn_en_tmp/Chinese-Poetry-Bilingual-master/Tang/Tang.json\"\n",
    "RAW_SONG  = RAW_DIR / \"cn_en_tmp/Chinese-Poetry-Bilingual-master/Song/Song.json\"\n",
    "\n",
    "SEED        = 42\n",
    "N_PAIRS     = 2000\n",
    "TRAIN_FRAC  = 0.80\n",
    "random.seed(SEED)"
   ],
   "outputs": [],
   "execution_count": 11
  },
  {
   "metadata": {},
   "cell_type": "markdown",
   "source": "# Cleaning functions",
   "id": "31db9f5f19265c46"
  },
  {
   "metadata": {
    "ExecuteTime": {
     "end_time": "2025-06-10T02:26:28.497167Z",
     "start_time": "2025-06-10T02:26:28.493715Z"
    }
   },
   "cell_type": "code",
   "source": [
    "PUNCT_MAP = str.maketrans({\n",
    "    \"，\": \",\", \"。\": \".\", \"？\": \"?\", \"！\": \"!\", \"：\": \":\", \"；\": \";\",\n",
    "    \"「\": \"\\\"\", \"」\": \"\\\"\", \"『\": \"\\\"\", \"』\": \"\\\"\",\n",
    "    \"（\": \"(\", \"）\": \")\", \"《\": \"\\\"\", \"》\": \"\\\"\", \"—\": \"-\", \"﹏\": \"_\"\n",
    "})\n",
    "SPLIT_RE = re.compile(r\"[，,.。\\n]+\")\n",
    "\n",
    "def normalise(s: str) -> str:\n",
    "    # NFKC normalize + strip\n",
    "    return unicodedata.normalize(\"NFKC\", s or \"\").strip()\n",
    "\n",
    "def load_poem_lines(fp: Path):\n",
    "    # flatten poem json into list of {zh,en} dicts, one per corresponding line\n",
    "    data = json.load(fp.open(encoding=\"utf-8\"))\n",
    "    if isinstance(data, dict):\n",
    "        data = [data]\n",
    "\n",
    "    rows = []\n",
    "    for poem in data:\n",
    "        zh_lines = poem[\"Chinese\"][\"content\"]\n",
    "        en_lines = poem[\"English\"][\"content\"]\n",
    "        for zh, en in zip_longest(zh_lines, en_lines, fillvalue=\"\"):\n",
    "            rows.append({\"zh\": normalise(zh), \"en\": normalise(en)})\n",
    "    return rows\n",
    "\n",
    "def split_zh(t: str):\n",
    "    # rudimentary line segmentation for Chinese verse\n",
    "    return [ln for ln in SPLIT_RE.split(t) if ln]"
   ],
   "id": "21895d2b8088cbb4",
   "outputs": [],
   "execution_count": 12
  },
  {
   "metadata": {},
   "cell_type": "markdown",
   "source": "# 1. Load & sample corpora",
   "id": "880b1f6a98fc7dd"
  },
  {
   "metadata": {
    "ExecuteTime": {
     "end_time": "2025-06-10T02:26:28.519877Z",
     "start_time": "2025-06-10T02:26:28.514424Z"
    }
   },
   "cell_type": "code",
   "source": [
    "rows      = load_poem_lines(RAW_TANG) + load_poem_lines(RAW_SONG)\n",
    "full_df   = pd.DataFrame(rows).dropna()\n",
    "print(f\"Loaded {len(full_df):,} bilingual (zh,en) pairs\")"
   ],
   "id": "cb6e8537ded83f9a",
   "outputs": [
    {
     "name": "stdout",
     "output_type": "stream",
     "text": [
      "Loaded 1,130 bilingual (zh,en) pairs\n"
     ]
    }
   ],
   "execution_count": 13
  },
  {
   "metadata": {
    "ExecuteTime": {
     "end_time": "2025-06-10T02:26:28.544740Z",
     "start_time": "2025-06-10T02:26:28.540737Z"
    }
   },
   "cell_type": "code",
   "source": [
    "sample_df = (full_df\n",
    "             .sample(n=min(N_PAIRS, len(full_df)), random_state=SEED, replace=False)\n",
    "             .reset_index(drop=True))\n",
    "\n",
    "\n",
    "print(f\"Sampling {len(sample_df):,} parallel pairs\")"
   ],
   "id": "82ba23fe3ee9772f",
   "outputs": [
    {
     "name": "stdout",
     "output_type": "stream",
     "text": [
      "Sampling 1,130 parallel pairs\n"
     ]
    }
   ],
   "execution_count": 14
  },
  {
   "metadata": {},
   "cell_type": "markdown",
   "source": "# 2. Clean & build record list",
   "id": "e02591577f2f3ceb"
  },
  {
   "metadata": {
    "ExecuteTime": {
     "end_time": "2025-06-10T02:26:28.567029Z",
     "start_time": "2025-06-10T02:26:28.557024Z"
    }
   },
   "cell_type": "code",
   "source": [
    "parallel_records = []\n",
    "\n",
    "# bilingual records (both zh & en)\n",
    "for zh_raw, en_raw in tqdm(sample_df[[\"zh\", \"en\"]].itertuples(index=False),\n",
    "                           total=len(sample_df), desc=\"Cleaning bilingual\"):\n",
    "    zh_clean = \"\\n\".join(split_zh(normalise(zh_raw)))\n",
    "    en_clean = normalise(en_raw)\n",
    "    parallel_records.append({\"zh\": zh_clean, \"en\": en_clean, \"gloss\": \"\"})\n",
    "\n",
    "# style‑only english sentences\n",
    "print(f\"Total: {len(parallel_records):,} parallel\")"
   ],
   "id": "173f9f4a78e1c8ac",
   "outputs": [
    {
     "data": {
      "text/plain": [
       "Cleaning bilingual:   0%|          | 0/1130 [00:00<?, ?it/s]"
      ],
      "application/vnd.jupyter.widget-view+json": {
       "version_major": 2,
       "version_minor": 0,
       "model_id": "df64a6260ef84c358a1938a89d58032a"
      }
     },
     "metadata": {},
     "output_type": "display_data"
    },
    {
     "name": "stdout",
     "output_type": "stream",
     "text": [
      "Total: 1,130 parallel\n"
     ]
    }
   ],
   "execution_count": 15
  },
  {
   "metadata": {},
   "cell_type": "markdown",
   "source": "# 3. Shuffle & split parallel corpus",
   "id": "205885baddc87d01"
  },
  {
   "metadata": {
    "ExecuteTime": {
     "end_time": "2025-06-10T02:26:28.597340Z",
     "start_time": "2025-06-10T02:26:28.594340Z"
    }
   },
   "cell_type": "code",
   "source": [
    "random.shuffle(parallel_records)\n",
    "cut = int(len(parallel_records) * TRAIN_FRAC)\n",
    "train_recs, test_recs = parallel_records[:cut], parallel_records[cut:]"
   ],
   "id": "6e5a4459c272e47f",
   "outputs": [],
   "execution_count": 16
  },
  {
   "metadata": {},
   "cell_type": "markdown",
   "source": "# 4. Output jsonl files",
   "id": "9af70edc486b6151"
  },
  {
   "metadata": {
    "ExecuteTime": {
     "end_time": "2025-06-10T02:26:28.628656Z",
     "start_time": "2025-06-10T02:26:28.618776Z"
    }
   },
   "cell_type": "code",
   "source": [
    "def write_jsonl(path: Path, data):\n",
    "    with path.open(\"w\", encoding=\"utf-8\") as f:\n",
    "        for row in data:\n",
    "            json.dump(row, f, ensure_ascii=False)\n",
    "            f.write(\"\\n\")\n",
    "\n",
    "write_jsonl(PROC_DIR / \"train.jsonl\", train_recs)\n",
    "write_jsonl(PROC_DIR / \"test.jsonl\",  test_recs)\n",
    "\n",
    "print(\"train.jsonl ->\", len(train_recs))\n",
    "print(\"test.jsonl  ->\", len(test_recs))"
   ],
   "id": "5f406b9cf35c02ae",
   "outputs": [
    {
     "name": "stdout",
     "output_type": "stream",
     "text": [
      "train.jsonl -> 904\n",
      "test.jsonl  -> 226\n"
     ]
    }
   ],
   "execution_count": 17
  },
  {
   "metadata": {
    "ExecuteTime": {
     "end_time": "2025-06-10T02:26:28.654747Z",
     "start_time": "2025-06-10T02:26:28.645540Z"
    }
   },
   "cell_type": "code",
   "source": [
    "## check\n",
    "import json\n",
    "import textwrap\n",
    "from pathlib import Path\n",
    "\n",
    "PROC_DIR = Path(\"data/proc\")\n",
    "with (PROC_DIR / \"train.jsonl\").open(encoding=\"utf-8\") as fh:\n",
    "    for ln in fh:\n",
    "        rec = json.loads(ln)\n",
    "        if rec[\"zh\"]:\n",
    "            sample = textwrap.indent(json.dumps(rec, ensure_ascii=False, indent=2), \"  \")\n",
    "            print(sample)\n",
    "            break"
   ],
   "id": "3e7dd75f5ff081b0",
   "outputs": [
    {
     "name": "stdout",
     "output_type": "stream",
     "text": [
      "  {\n",
      "    \"zh\": \"徒此揖清芬\",\n",
      "    \"en\": \"We can but breathe your fragrance the wind brings down.\",\n",
      "    \"gloss\": \"\"\n",
      "  }\n"
     ]
    }
   ],
   "execution_count": 18
  }
 ],
 "metadata": {
  "kernelspec": {
   "display_name": "Python [conda env:base] *",
   "language": "python",
   "name": "conda-base-py"
  },
  "language_info": {
   "codemirror_mode": {
    "name": "ipython",
    "version": 2
   },
   "file_extension": ".py",
   "mimetype": "text/x-python",
   "name": "python",
   "nbconvert_exporter": "python",
   "pygments_lexer": "ipython2",
   "version": "2.7.6"
  }
 },
 "nbformat": 4,
 "nbformat_minor": 5
}
