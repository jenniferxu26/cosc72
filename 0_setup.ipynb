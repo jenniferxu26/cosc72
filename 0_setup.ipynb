{
 "cells": [
  {
   "metadata": {},
   "cell_type": "markdown",
   "source": [
    "# 0_setup.ipynb\n",
    "\n",
    "Jennifer Xu (Jennifer.Xu.26@dartmouth.edu)\n",
    "\n",
    "This code loads Chinese-English poem pairs for training and testing translation, English poetry for training style, and Chinese glosses along with archaic poetic vocabulary for retrieval-augmented generation."
   ],
   "id": "8012a0b312c75b15"
  },
  {
   "metadata": {
    "jupyter": {
     "is_executing": true
    }
   },
   "cell_type": "code",
   "source": "!pip install --upgrade \"transformers>=4.40\" peft faiss-cpu datasets evaluate sentencepiece tiktoken openai bitsandbytes accelerate tqdm",
   "id": "5f5015c52bee832a",
   "outputs": [],
   "execution_count": null
  },
  {
   "cell_type": "code",
   "id": "initial_id",
   "metadata": {
    "collapsed": true,
    "ExecuteTime": {
     "end_time": "2025-06-01T08:23:16.579163Z",
     "start_time": "2025-06-01T08:23:16.055045Z"
    }
   },
   "source": [
    "import urllib.request, requests, zipfile, gzip, shutil, json, random, pandas as pd\n",
    "from pathlib import Path\n",
    "\n",
    "root = Path(\"data/raw\")\n",
    "root.mkdir(parents=True, exist_ok=True)"
   ],
   "outputs": [],
   "execution_count": 2
  },
  {
   "metadata": {
    "ExecuteTime": {
     "end_time": "2025-06-01T08:23:16.959249Z",
     "start_time": "2025-06-01T08:23:16.597168Z"
    }
   },
   "cell_type": "code",
   "source": [
    "# Chinese-English poem pairs\n",
    "zip_url = (\"https://github.com/Leslie-Wong-H/Chinese-Poetry-Bilingual/\"\n",
    "           \"archive/refs/heads/master.zip\")\n",
    "zip_path = root / \"ch_poetry_bi.zip\"\n",
    "if not zip_path.exists():\n",
    "    urllib.request.urlretrieve(zip_url, zip_path)\n",
    "    print(\"Downloaded bilingual zip.\")\n",
    "\n",
    "with zipfile.ZipFile(zip_path) as z:\n",
    "    z.extractall(root / \"cn_en_tmp\")\n",
    "print(\"Unzipped bilingual corpus.\")"
   ],
   "id": "5c3639519d9684fb",
   "outputs": [
    {
     "name": "stdout",
     "output_type": "stream",
     "text": [
      "Downloaded bilingual zip.\n",
      "Unzipped bilingual corpus.\n"
     ]
    }
   ],
   "execution_count": 3
  },
  {
   "metadata": {
    "ExecuteTime": {
     "end_time": "2025-06-01T08:23:26.636583Z",
     "start_time": "2025-06-01T08:23:16.992256Z"
    }
   },
   "cell_type": "code",
   "source": [
    "## English poetry\n",
    "gp_gz  = root / \"gutenberg_poetry.ndjson.gz\"\n",
    "url = \"http://static.decontextualize.com/gutenberg-poetry-v001.ndjson.gz\"\n",
    "\n",
    "if not gp_gz.exists():\n",
    "    urllib.request.urlretrieve(url, gp_gz)\n",
    "    print(\"Downloaded Gutenberg.\")\n",
    "\n",
    "# sample 5k lines\n",
    "sample_n = 5000\n",
    "lines = []\n",
    "with gzip.open(gp_gz, \"rt\", encoding=\"utf-8\") as f:\n",
    "    for ln in f:\n",
    "        lines.append(json.loads(ln)[\"s\"])\n",
    "\n",
    "sample = random.sample(lines, sample_n)\n",
    "pd.DataFrame({\"text\": sample}).to_csv(root / \"gutenberg_en.csv\",\n",
    "                                      index=False, encoding=\"utf-8\")\n",
    "print(f\"data/raw/gutenberg_en.csv written ({sample_n} rows)\")"
   ],
   "id": "b374130e383afda8",
   "outputs": [
    {
     "name": "stdout",
     "output_type": "stream",
     "text": [
      "Downloaded Gutenberg.\n",
      "data/raw/gutenberg_en.csv written (5000 rows)\n"
     ]
    }
   ],
   "execution_count": 4
  },
  {
   "metadata": {
    "ExecuteTime": {
     "end_time": "2025-06-01T08:23:28.020575Z",
     "start_time": "2025-06-01T08:23:26.670590Z"
    }
   },
   "cell_type": "code",
   "source": [
    "## CC-CEDICT\n",
    "url = \"https://www.mdbg.net/chinese/export/cedict/cedict_1_0_ts_utf-8_mdbg.txt.gz\"\n",
    "gz_path = Path(\"data/raw/cedict_ts.u8.gz\")\n",
    "txt_path = Path(\"data/raw/cedict_ts.u8\")\n",
    "\n",
    "gz_path.parent.mkdir(parents=True, exist_ok=True)\n",
    "urllib.request.urlretrieve(url, gz_path)\n",
    "\n",
    "# decompress\n",
    "with gzip.open(gz_path, \"rb\") as f_in, open(txt_path, \"wb\") as f_out:\n",
    "    shutil.copyfileobj(f_in, f_out)\n",
    "\n",
    "print(\"CC-CEDICT downloaded.\")"
   ],
   "id": "c28d1038714c5aff",
   "outputs": [
    {
     "name": "stdout",
     "output_type": "stream",
     "text": [
      "CC-CEDICT downloaded.\n"
     ]
    }
   ],
   "execution_count": 5
  },
  {
   "metadata": {
    "ExecuteTime": {
     "end_time": "2025-06-01T08:23:50.696935Z",
     "start_time": "2025-06-01T08:23:28.053583Z"
    }
   },
   "cell_type": "code",
   "source": [
    "## Archaic-poetry add-ons (成语 + 词语)\n",
    "def github_raw(path):\n",
    "    api = f\"https://raw.githubusercontent.com/{path}\"\n",
    "    return requests.get(api, timeout=30).text\n",
    "\n",
    "for short, fname in [(\"idiom\", \"idiom.json\"), (\"ci\", \"ci.json\")]:\n",
    "    dest = Path(\"data/raw\") / fname\n",
    "    if not dest.exists():\n",
    "        txt = github_raw(f\"pwxcoo/chinese-xinhua/master/data/{fname}\")\n",
    "        dest.write_text(txt, encoding=\"utf-8\")\n",
    "print(\"Dictionary downloaded.\")"
   ],
   "id": "c07a1a16baac7dcb",
   "outputs": [
    {
     "name": "stdout",
     "output_type": "stream",
     "text": [
      "Dictionary downloaded.\n"
     ]
    }
   ],
   "execution_count": 6
  }
 ],
 "metadata": {
  "kernelspec": {
   "display_name": "Python [conda env:base] *",
   "language": "python",
   "name": "conda-base-py"
  },
  "language_info": {
   "codemirror_mode": {
    "name": "ipython",
    "version": 2
   },
   "file_extension": ".py",
   "mimetype": "text/x-python",
   "name": "python",
   "nbconvert_exporter": "python",
   "pygments_lexer": "ipython2",
   "version": "2.7.6"
  }
 },
 "nbformat": 4,
 "nbformat_minor": 5
}
