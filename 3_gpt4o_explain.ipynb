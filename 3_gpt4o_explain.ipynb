{
 "cells": [
  {
   "metadata": {},
   "cell_type": "markdown",
   "source": [
    "# 3_gpt4o_explain.ipynb\n",
    "\n",
    "Jennifer Xu (Jennifer.Xu.26@dartmouth.edu)\n",
    "\n",
    "This code reads train_gloss.jsonl as input and queries GPT-4o for a concise English explanation of each Chinese line. It outputs the explanations in explanations.sqlite, pairing each Chinese line with its English explanation in JSONL format. This file will be used later in the LoRA training stage."
   ],
   "id": "57870729d4b07347"
  },
  {
   "metadata": {},
   "cell_type": "markdown",
   "source": "# Configuration",
   "id": "ad93a9768cec048d"
  },
  {
   "metadata": {
    "ExecuteTime": {
     "end_time": "2025-06-10T02:30:30.043924Z",
     "start_time": "2025-06-10T02:30:29.441492Z"
    }
   },
   "cell_type": "code",
   "source": [
    "# setup API\n",
    "import os, openai\n",
    "\n",
    "os.environ[\"OPENAI_API_KEY\"] = \"sk-XXX\"\n",
    "\n",
    "client = openai.OpenAI()\n",
    "print(\"Key detected?  ->\", bool(client.api_key))"
   ],
   "id": "3b9a8a9620dd8be2",
   "outputs": [
    {
     "name": "stdout",
     "output_type": "stream",
     "text": [
      "Key detected?  -> True\n"
     ]
    }
   ],
   "execution_count": 2
  },
  {
   "metadata": {
    "ExecuteTime": {
     "end_time": "2025-06-10T02:30:30.115928Z",
     "start_time": "2025-06-10T02:30:30.046933Z"
    }
   },
   "cell_type": "code",
   "source": [
    "from pathlib import Path\n",
    "import sqlite3, hashlib, textwrap, json, time\n",
    "from tqdm.auto import tqdm\n",
    "\n",
    "DATA_DIR   = Path(\"data/proc\")\n",
    "TRAIN_FILE = DATA_DIR / \"train_gloss.jsonl\""
   ],
   "id": "bbd355195e3892f",
   "outputs": [],
   "execution_count": 3
  },
  {
   "metadata": {
    "ExecuteTime": {
     "end_time": "2025-06-10T02:30:30.129569Z",
     "start_time": "2025-06-10T02:30:30.126371Z"
    }
   },
   "cell_type": "code",
   "source": [
    "# cache\n",
    "CACHE_DB   = DATA_DIR / \"explanations.sqlite\"\n",
    "conn = sqlite3.connect(CACHE_DB)\n",
    "cur  = conn.cursor()\n",
    "cur.execute(\"\"\"\n",
    "CREATE TABLE IF NOT EXISTS explain (\n",
    "    id          TEXT PRIMARY KEY,\n",
    "    zh          TEXT,\n",
    "    gloss       TEXT,\n",
    "    explanation TEXT\n",
    ")\n",
    "\"\"\")\n",
    "conn.commit()"
   ],
   "id": "2c65ea87ff000a",
   "outputs": [],
   "execution_count": 4
  },
  {
   "metadata": {},
   "cell_type": "markdown",
   "source": "# Helper function: fetch & store explanation",
   "id": "47a40fe635da3eb3"
  },
  {
   "metadata": {
    "ExecuteTime": {
     "end_time": "2025-06-10T02:30:30.138678Z",
     "start_time": "2025-06-10T02:30:30.134737Z"
    }
   },
   "cell_type": "code",
   "source": [
    "# %% [code]\n",
    "def row_id(zh: str, gloss: str) -> str:\n",
    "    return hashlib.sha1(f\"{zh}||{gloss}\".encode(\"utf-8\")).hexdigest()\n",
    "\n",
    "def gpt_explain(zh: str, gloss: str) -> dict:\n",
    "    # return GPT-4o explanation JSON\n",
    "    rid = row_id(zh, gloss)\n",
    "    row = cur.execute(\"SELECT explanation FROM explain WHERE id=?\", (rid,)).fetchone()\n",
    "    if row:\n",
    "        return json.loads(row[0])\n",
    "\n",
    "    # build prompt\n",
    "    prompt = textwrap.dedent(f\"\"\"\n",
    "    You are a helpful scholar of classical Chinese poetry.\n",
    "    For the line below, return a *short* JSON with keys:\n",
    "      literal, imagery, cultural, tone.\n",
    "    <line>{zh}</line>\n",
    "    <gloss>{gloss}</gloss>\n",
    "    \"\"\").strip()\n",
    "\n",
    "    # call GPT-4o\n",
    "    resp = client.chat.completions.create(\n",
    "        model=\"gpt-4o-mini\",\n",
    "        messages=[{\"role\": \"user\", \"content\": prompt}],\n",
    "        temperature=0.2,\n",
    "        max_tokens=90,\n",
    "    )\n",
    "    content = resp.choices[0].message.content.strip()\n",
    "\n",
    "    # parse to JSON\n",
    "    try:\n",
    "        expl = json.loads(content)\n",
    "    except json.JSONDecodeError:\n",
    "        expl = {\"literal\": content}\n",
    "\n",
    "    # store in cache\n",
    "    cur.execute(\n",
    "        \"INSERT OR REPLACE INTO explain VALUES (?,?,?,?)\",\n",
    "        (rid, zh, gloss, json.dumps(expl, ensure_ascii=False))\n",
    "    )\n",
    "    conn.commit()\n",
    "    return expl"
   ],
   "id": "b907aa9e78a7b94e",
   "outputs": [],
   "execution_count": 5
  },
  {
   "metadata": {},
   "cell_type": "markdown",
   "source": "# Iterate through training data",
   "id": "2014f560ffc9f047"
  },
  {
   "metadata": {
    "ExecuteTime": {
     "end_time": "2025-06-10T02:47:11.926556Z",
     "start_time": "2025-06-10T02:30:30.144185Z"
    }
   },
   "cell_type": "code",
   "source": [
    "SLEEP_SEC = 1.2\n",
    "FILES = [TRAIN_FILE]\n",
    "\n",
    "for fp in FILES:\n",
    "    total = hit = 0\n",
    "    with open(fp, encoding=\"utf-8\") as f:\n",
    "        for ln in tqdm(f, desc=f\"GPT-4o explain  →  {fp.name}\"):\n",
    "            rec = json.loads(ln)\n",
    "            # skip English-only rows\n",
    "            if not rec[\"zh\"]:\n",
    "                continue\n",
    "            # only query lines that have a gloss\n",
    "            if rec[\"gloss\"] == \"\":\n",
    "                continue\n",
    "\n",
    "            gpt_explain(rec[\"zh\"], rec[\"gloss\"])\n",
    "            time.sleep(SLEEP_SEC)\n",
    "            hit += 1\n",
    "    print(f\"{fp.name}: {hit} lines processed.\")"
   ],
   "id": "913692ef19ce6450",
   "outputs": [
    {
     "data": {
      "text/plain": [
       "GPT-4o explain  →  train_gloss.jsonl: 0it [00:00, ?it/s]"
      ],
      "application/vnd.jupyter.widget-view+json": {
       "version_major": 2,
       "version_minor": 0,
       "model_id": "bd5b28277a204ef8b0c525510841b3c9"
      }
     },
     "metadata": {},
     "output_type": "display_data"
    },
    {
     "name": "stdout",
     "output_type": "stream",
     "text": [
      "train_gloss.jsonl: 834 lines processed.\n"
     ]
    }
   ],
   "execution_count": 6
  },
  {
   "metadata": {
    "ExecuteTime": {
     "end_time": "2025-06-10T02:47:11.990643Z",
     "start_time": "2025-06-10T02:47:11.986555Z"
    }
   },
   "cell_type": "code",
   "source": [
    "## check\n",
    "row = cur.execute(\"SELECT zh, gloss, explanation FROM explain LIMIT 1\").fetchone()\n",
    "print(\"Line :\", row[0])\n",
    "print(\"Gloss:\", row[1])\n",
    "print(\"JSON :\", json.dumps(json.loads(row[2]), indent=2, ensure_ascii=False))"
   ],
   "id": "d6b54cec9b58d02c",
   "outputs": [
    {
     "name": "stdout",
     "output_type": "stream",
     "text": [
      "Line : 徒此揖清芬\n",
      "Gloss: to greet by raising clasped hands; 1.清香。 \n",
      "2.喻高洁的德行。\n",
      "JSON : {\n",
      "  \"literal\": \"```json\\n{\\n  \\\"literal\\\": \\\"to greet by raising clasped hands; fragrant and pure\\\",\\n  \\\"imagery\\\": \\\"the act of greeting suggests reverence, while '清芬' evokes the scent of purity and elegance\\\",\\n  \\\"cultural\\\": \\\"the gesture of clasped hands signifies respect and humility in Chinese culture, while '清芬' symbolizes noble character\\\",\\n  \\\"tone\\\": \\\"elevated and respectful, conveying admiration\"\n",
      "}\n"
     ]
    }
   ],
   "execution_count": 7
  }
 ],
 "metadata": {
  "kernelspec": {
   "display_name": "Python [conda env:base] *",
   "language": "python",
   "name": "conda-base-py"
  },
  "language_info": {
   "codemirror_mode": {
    "name": "ipython",
    "version": 2
   },
   "file_extension": ".py",
   "mimetype": "text/x-python",
   "name": "python",
   "nbconvert_exporter": "python",
   "pygments_lexer": "ipython2",
   "version": "2.7.6"
  }
 },
 "nbformat": 4,
 "nbformat_minor": 5
}
